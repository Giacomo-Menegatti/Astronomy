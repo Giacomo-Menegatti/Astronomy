{
 "cells": [
  {
   "cell_type": "markdown",
   "metadata": {},
   "source": [
    "# Orbital Elements"
   ]
  },
  {
   "cell_type": "code",
   "execution_count": 40,
   "metadata": {},
   "outputs": [],
   "source": [
    "import matplotlib.pyplot as plt\n",
    "import numpy as np\n",
    "from numpy.linalg import norm\n",
    "\n",
    "def angle_between(v1,v2):\n",
    "  '''Angle between two vectors'''\n",
    "  return np.arccos(np.dot(v1,v2)/(norm(v1)*norm(v2)))\n"
   ]
  },
  {
   "cell_type": "markdown",
   "metadata": {},
   "source": [
    "## Orbital Plane"
   ]
  },
  {
   "cell_type": "code",
   "execution_count": 41,
   "metadata": {},
   "outputs": [],
   "source": [
    "class orbit_elements:\n",
    "  def C(self,r0,v0,mu):\n",
    "    '''Energy constant'''\n",
    "    return 0.5*np.dot(v0,v0)-mu/norm(r)\n",
    "\n",
    "  def a(self,r0,v0,mu):\n",
    "    '''Semi-major axis of orbit'''\n",
    "    return -mu/(2*C(r0,v0,mu))\n",
    "\n",
    "  def h(self, r0,v0):\n",
    "    '''Integral of areas'''\n",
    "    return np.cross(r0,v0)\n",
    "\n",
    "  def e(self,r0,v0,mu):\n",
    "    '''Eccentricity of the orbit'''\n",
    "    return (1.0 + 2*C(r0,v0,mu)*h(r0,v0)**2/mu**2)**0.5\n",
    "\n",
    "  def omega(self,r0,v0,mu):\n",
    "    '''Angle of pericenter'''\n",
    "    a = a(r0,v0,mu)\n",
    "    e = e(r0,v0,mu)\n",
    "    arg = (a *(1-e **2)/norm(r0)-1)/e \n",
    "    arg = np.clip(arg,-1,1) #Sometimes roundoff makes the argument go over 1\n",
    "    return self.theta(r0)-np.arccos(arg)\n",
    "\n",
    "  def theta(self,r0):\n",
    "    '''Direction of the radial vector'''\n",
    "    return np.arctan2(r0[1], r0[0])\n",
    "\n",
    "  def f(r0,v0,mu):\n",
    "    '''True anomaly along the orbit'''\n",
    "    return self.theta(r0)-self.omega(r0,v0,mu)\n",
    "\n",
    "  def conic(a,e,omega, theta):\n",
    "    '''Conic section followed by a body'''\n",
    "    omega = np.tile(omega, f.shape[0])\n",
    "    return a*(1-e**2)/(1+e*np.cos(theta-omega))\n",
    "\n",
    "  def orbital_elements(self, r0,v0,mu):\n",
    "    C = self.C(r0,v0,mu)\n",
    "    e = self.e(r0,v0,mu)\n",
    "    a = self.a(r0,v0,mu)  \n",
    "    shape = 'circular' if e==0 else 'parabolic' if e==1 else 'elliptic' if e<1 else 'hyperbolic'\n",
    "    omega = None if e==0 else omega(r0,v0,mu)\n",
    "\n",
    "    print(f'The orbit is {shape}, with:')\n",
    "    print('semi-major axis',a )\n",
    "    print('eccentricity:', e)\n",
    "    if not omega  == None : print('angle of pericenter:', omega ) \n",
    "    return {'Shape': shape, 'a':a , 'e':e , 'omega':omega }\n",
    "\n",
    "  "
   ]
  },
  {
   "cell_type": "code",
   "execution_count": 42,
   "metadata": {},
   "outputs": [
    {
     "ename": "TypeError",
     "evalue": "orbit_elements.orbital_elements() missing 1 required positional argument: 'mu'",
     "output_type": "error",
     "traceback": [
      "\u001b[0;31m---------------------------------------------------------------------------\u001b[0m",
      "\u001b[0;31mTypeError\u001b[0m                                 Traceback (most recent call last)",
      "Cell \u001b[0;32mIn[42], line 5\u001b[0m\n\u001b[1;32m      2\u001b[0m r \u001b[38;5;241m=\u001b[39m np\u001b[38;5;241m.\u001b[39marray((\u001b[38;5;241m10\u001b[39m,\u001b[38;5;241m0\u001b[39m))\n\u001b[1;32m      3\u001b[0m v \u001b[38;5;241m=\u001b[39m np\u001b[38;5;241m.\u001b[39marray((\u001b[38;5;241m0\u001b[39m,\u001b[38;5;241m0.3\u001b[39m))\n\u001b[0;32m----> 5\u001b[0m oe \u001b[38;5;241m=\u001b[39m \u001b[43morbit_elements\u001b[49m\u001b[38;5;241;43m.\u001b[39;49m\u001b[43morbital_elements\u001b[49m\u001b[43m(\u001b[49m\u001b[43mr\u001b[49m\u001b[43m,\u001b[49m\u001b[43mv\u001b[49m\u001b[43m,\u001b[49m\u001b[43mmu\u001b[49m\u001b[43m)\u001b[49m\n\u001b[1;32m      6\u001b[0m plt\u001b[38;5;241m.\u001b[39msubplot(projection\u001b[38;5;241m=\u001b[39m\u001b[38;5;124m'\u001b[39m\u001b[38;5;124mpolar\u001b[39m\u001b[38;5;124m'\u001b[39m)\n\u001b[1;32m      7\u001b[0m theta \u001b[38;5;241m=\u001b[39m np\u001b[38;5;241m.\u001b[39mlinspace(\u001b[38;5;241m-\u001b[39mnp\u001b[38;5;241m.\u001b[39mpi, np\u001b[38;5;241m.\u001b[39mpi, \u001b[38;5;241m1000\u001b[39m)\u001b[38;5;241m+\u001b[39moe[\u001b[38;5;124m'\u001b[39m\u001b[38;5;124momega\u001b[39m\u001b[38;5;124m'\u001b[39m]\n",
      "\u001b[0;31mTypeError\u001b[0m: orbit_elements.orbital_elements() missing 1 required positional argument: 'mu'"
     ]
    }
   ],
   "source": [
    "mu = 1.0\n",
    "r = np.array((10,0))\n",
    "v = np.array((0,0.3))\n",
    "\n",
    "oe = orbit_elements.orbital_elements(r,v,mu)\n",
    "plt.subplot(projection='polar')\n",
    "theta = np.linspace(-np.pi, np.pi, 1000)+oe['omega']\n",
    "plt.plot(theta, orbit_elements.conic(oe['a'], oe['e'], oe['omega'], theta))\n"
   ]
  },
  {
   "cell_type": "code",
   "execution_count": null,
   "metadata": {},
   "outputs": [],
   "source": []
  }
 ],
 "metadata": {
  "kernelspec": {
   "display_name": "Python 3",
   "language": "python",
   "name": "python3"
  },
  "language_info": {
   "codemirror_mode": {
    "name": "ipython",
    "version": 3
   },
   "file_extension": ".py",
   "mimetype": "text/x-python",
   "name": "python",
   "nbconvert_exporter": "python",
   "pygments_lexer": "ipython3",
   "version": "3.10.12"
  }
 },
 "nbformat": 4,
 "nbformat_minor": 2
}
