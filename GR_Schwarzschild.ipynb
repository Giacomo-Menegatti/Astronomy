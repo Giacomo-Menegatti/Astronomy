{
 "cells": [
  {
   "cell_type": "markdown",
   "metadata": {},
   "source": [
    "# Geodetic motion in Schwarzschild geometry"
   ]
  },
  {
   "cell_type": "markdown",
   "metadata": {},
   "source": [
    "### The metric and the geodesic equation\n",
    "\n",
    "The metric of the Schwarzschild space around a not charged, not spinnig black hole is $$ ds^2 = -(1-\\frac{2GM}{r})c^2 dt^2 +(1-\\frac{2GM}{r})^{-1} dr^2 + r^2 d\\theta^2 + r^2 \\sin(\\theta)^2 d\\phi^2 $$ \n",
    "The metric is described by $ g_{\\mu \\nu} = diag(-(1-\\frac{2GM}{r}), (1-\\frac{2GM}{r})^{-1}, r^2, r^2\\sin(\\theta)^2) $ \n",
    " \n",
    "The evolution of a massive body in geodesic motion is described by\n",
    "$$ \\begin{equation}\n",
    "    \\begin{cases}\n",
    "      \\frac{dx^\\mu}{d \\tau}= u^\\mu\\\\\n",
    "      \\frac{du^\\alpha}{d \\tau} + \\Gamma^\\alpha_{\\beta \\gamma}u^\\beta u^\\gamma = 0\n",
    "    \\end{cases}\\\n",
    "\\end{equation} $$\n",
    "The equation can be integrated in the proper time to obtain the coordinate time and the position of the body $ x^\\mu = (t, r, \\theta, \\phi) $ \n",
    " \n",
    "  \n",
    "The non-zero Christoffel symbols are \n",
    "\n",
    "$$ \\begin{matrix}\n",
    " \\Gamma^r_{tt}= \\frac{GM(r-2GM)}{r^3}  &  \\Gamma^r_{\\phi\\phi}= -(r-2GM)\\sin2\\theta  &   \\Gamma^r_{\\theta\\theta}= -(r-2GM)  \\\\\n",
    " \\Gamma^r_{rr}= -GMr(r-2GM)  &  \\Gamma^t_{rt}= \\frac{GM}{r(r-2GM)}  &   \\Gamma^\\theta_{\\phi\\phi}= -\\sin\\theta\\cos\\theta  \\\\\n",
    " \\Gamma^\\phi_{r\\phi}= \\frac{1}{r}  &   \\Gamma^\\theta_{r\\theta}= \\frac{1}{r}  &   \\Gamma^\\phi_{\\theta\\phi}=\\sin\\theta\\cos\\theta \n",
    "\\end{matrix} $$"
   ]
  },
  {
   "cell_type": "code",
   "execution_count": 68,
   "metadata": {},
   "outputs": [],
   "source": [
    "import numpy as np\n",
    "import matplotlib.pyplot as plt\n",
    "import matplotlib.animation as ani\n",
    "import pandas as pd\n",
    "from scipy.integrate import solve_ivp"
   ]
  },
  {
   "cell_type": "markdown",
   "metadata": {},
   "source": [
    "### Definitions of the metric and the Christoffel symbols"
   ]
  },
  {
   "cell_type": "code",
   "execution_count": 69,
   "metadata": {},
   "outputs": [],
   "source": [
    "# The metric depends on the point where it is calculated\n",
    "\n",
    "def metric(Rs):\n",
    "  return lambda x: np.diag([-(1-2*Rs/x[1]),(1-2*Rs/x[1])**-1, x[1]**2, (x[1]*np.sin(x[2]))**2])\n",
    "\n",
    "# Christoffel symbols\n",
    "\n",
    "def Chr(x, Rs):\n",
    "  r, theta = x[1], x[2]\n",
    "  ch = np.zeros((4,4,4))\n",
    "  ch[1][0][0] = Rs*(r-2*Rs)/r**3      # r-tt\n",
    "  ch[0][1][0] = Rs/(r*(r-2*Rs))    # t-rt\n",
    "  ch[0][0][1] = Rs/(r*(r-2*Rs))    # t-tr\n",
    "  \n",
    "  ch[1][1][1] = -Rs/(r*(r-2*Rs))    # r-rr\n",
    "  \n",
    "  ch[1][2][2] = -(r-2*Rs)     # r-theta theta\n",
    "  ch[2][1][2] = -(r-2*Rs)     # theta - r theta\n",
    "  ch[2][2][1] = -(r-2*Rs)     # theta - theta r\n",
    "  \n",
    "  ch[1][3][3] = -(r-2*Rs)*np.sin(2*theta)    # r- phi phi\n",
    "  ch[3][1][3] = 1/r    # phi- r phi\n",
    "  ch[3][3][1] = 1/r    # phi- phi r\n",
    "  \n",
    "  ch[2][3][3] = -0.5*np.sin(2*theta)   # theta - phi phi\n",
    "  ch[3][2][3] = np.sin(theta)/np.cos(theta)   # phi - theta phi\n",
    "  ch[3][3][2] = np.sin(theta)/np.cos(theta)   # phi - phi theta\n",
    "  \n",
    "  return ch\n",
    "\n",
    "def Christoffel(Rs):\n",
    "  return lambda x: Chr(x,Rs)\n",
    "\n",
    "def dot(a,b,g): #Doct product with the metric\n",
    "  return np.dot(a,np.dot(g, b))\n",
    "\n",
    "def spher2cart(x):  #Spherical to cartesian coordinates\n",
    "  r, theta, phi = x[0], x[1], x[2]\n",
    "  return (r*np.sin(theta)*np.cos(phi), r*np.sin(theta)*np.sin(phi), r*np.cos(theta))\n",
    "  "
   ]
  },
  {
   "cell_type": "code",
   "execution_count": 70,
   "metadata": {},
   "outputs": [
    {
     "name": "stdout",
     "output_type": "stream",
     "text": [
      "The Schwarzschild radius is 1.000e+00\n"
     ]
    }
   ],
   "source": [
    "G, M, c = 1.0, 1.0, 1.0\n",
    "Rs = G*M/c**2\n",
    "\n",
    "print(f'The Schwarzschild radius is {Rs:.3e}')\n",
    "g = metric(Rs)\n",
    "christoffel = Christoffel(Rs)"
   ]
  },
  {
   "cell_type": "code",
   "execution_count": 71,
   "metadata": {},
   "outputs": [
    {
     "name": "stdout",
     "output_type": "stream",
     "text": [
      "The initial position is (r: 1.000e+02, theta: 1.571e+00, phi: 0.000e+00) or (x: 1.000e+02, y: 0.000e+00, z: 6.123e-15)\n",
      "The initial velocity is (v_r: 0.000e+00, v_theta: 0.000e+00, v_phi: 1.000e-05) or (dr/dt: 0.000e+00, dtheta/dt: 0.000e+00, dphi/dt: 1.000e-07)\n",
      "The total velocity is 1.000e-05 c\n",
      "[-9.80000000e-01  1.02040816e+00  1.00000000e+04  1.00000000e+04]\n",
      "-0.979999\n",
      "-1.0\n",
      "The 4-position is [  0.         100.           1.57079633   0.        ]\n",
      "The 4-velocity is [1.01015306e+00 0.00000000e+00 0.00000000e+00 1.01015306e-05]\n"
     ]
    }
   ],
   "source": [
    "#Initial position and speed\n",
    "\n",
    "x = (1e2, 0.5*np.pi, 0)  # (r, theta, phi)\n",
    "v = (0,0,1e-5)          # (v_r, v_theta, v_phi) in c units\n",
    "\n",
    "x_cart = spher2cart(x)\n",
    "print(f'The initial position is (r: {x[0]:.3e}, theta: {x[1]:.3e}, phi: {x[2]:.3e}) or (x: {x_cart[0]:.3e}, y: {x_cart[1]:.3e}, z: {x_cart[2]:.3e})')\n",
    "\n",
    "dx = (v[0], v[1]/x[0], v[2]/(x[0]*np.sin(x[1]))) #dx/dt: dr = v_r, dtheta = v_theta/r, dphi = v_phi/(r*sin(theta))\n",
    "print(f'The initial velocity is (v_r: {v[0]:.3e}, v_theta: {v[1]:.3e}, v_phi: {v[2]:.3e}) or (dr/dt: {dx[0]:.3e}, dtheta/dt: {dx[1]:.3e}, dphi/dt: {dx[2]:.3e})')\n",
    "print(f'The total velocity is {np.linalg.norm(v):.3e} c')\n",
    "\n",
    "#Initial 4-vectors\n",
    "x = np.array([0, x[0], x[1], x[2]])\n",
    "\n",
    "# u is found by using u*u = -1 and u0 = dt/dtau\n",
    "u = np.array([1, v[0], v[1], v[2]])\n",
    "print(g(x).diagonal())\n",
    "print(dot(u,u,g(x)))\n",
    "u0 = (-1/dot(u,u,g(x)))**0.5\n",
    "u = u0*u\n",
    "print(dot(u,u,g(x)))\n",
    "\n",
    "print(f'The 4-position is {x}')\n",
    "print(f'The 4-velocity is {u}')"
   ]
  },
  {
   "cell_type": "code",
   "execution_count": 72,
   "metadata": {},
   "outputs": [
    {
     "data": {
      "text/plain": [
       "[<matplotlib.lines.Line2D at 0x7f6cee6d5f60>]"
      ]
     },
     "execution_count": 72,
     "metadata": {},
     "output_type": "execute_result"
    },
    {
     "data": {
      "image/png": "[encoded data removed]",
      "text/plain": [
       "<Figure size 640x480 with 1 Axes>"
      ]
     },
     "metadata": {},
     "output_type": "display_data"
    }
   ],
   "source": [
    "def f(tau, y):\n",
    "  x, u = y[0:4], y[4:]\n",
    "  dx = u\n",
    "  du = -np.dot(np.dot(u, christoffel(x)[:]), u)\n",
    "  return np.concatenate([dx,du])\n",
    "\n",
    "t0, tf = 0, 1e6\n",
    "\n",
    "y0 = np.concatenate([x,u])\n",
    "Y = solve_ivp(f, t_span=(t0, tf), y0=y0, t_eval=np.linspace(t0,tf,1000), rtol=1e-6)\n",
    "\n",
    "plt.plot(Y.t, Y.y[0])\n",
    "plt.plot(Y.y[0], Y.y[1])"
   ]
  }
 ],
 "metadata": {
  "kernelspec": {
   "display_name": "Python 3",
   "language": "python",
   "name": "python3"
  },
  "language_info": {
   "codemirror_mode": {
    "name": "ipython",
    "version": 3
   },
   "file_extension": ".py",
   "mimetype": "text/x-python",
   "name": "python",
   "nbconvert_exporter": "python",
   "pygments_lexer": "ipython3",
   "version": "3.10.12"
  }
 },
 "nbformat": 4,
 "nbformat_minor": 2
}
