{
 "cells": [
  {
   "cell_type": "markdown",
   "metadata": {},
   "source": [
    "# Geodetic motion in Schwarzschild geometry"
   ]
  },
  {
   "cell_type": "markdown",
   "metadata": {},
   "source": [
    "### The metric and the geodesic equation\n",
    "\n",
    "The metric of the Schwarzschild space around a not charged, not spinnig black hole is $$ ds^2 = -(1-\\frac{2GM}{r})c^2 dt^2 +(1-\\frac{2GM}{r})^{-1} dr^2 + r^2 d\\theta^2 + r^2 \\sin(\\theta)^2 d\\phi^2 $$ \n",
    "The metric is described by $ g_{\\mu \\nu} = diag(-(1-\\frac{2GM}{r}), (1-\\frac{2GM}{r})^{-1}, r^2, r^2\\sin(\\theta)^2) $ \n",
    " \n",
    "The evolution of a massive body in geodesic motion is described by\n",
    "$$ \\begin{equation}\n",
    "    \\begin{cases}\n",
    "      \\frac{dx^\\mu}{d \\tau}= u^\\mu\\\\\n",
    "      \\frac{du^\\alpha}{d \\tau} + \\Gamma^\\alpha_{\\beta \\gamma}u^\\beta u^\\gamma = 0\n",
    "    \\end{cases}\\\n",
    "\\end{equation} $$\n",
    "The equation can be integrated in the proper time to obtain the coordinate time and the position of the body $ x^\\mu = (t, r, \\theta, \\phi) $ \n",
    " \n",
    "  \n",
    "The non-zero Christoffel symbols are \n",
    "\n",
    "$$ \\begin{matrix}\n",
    " \\Gamma^r_{tt}= \\frac{GM(r-2GM)}{r^3}  &  \\Gamma^r_{\\phi\\phi}= -(r-2GM)\\sin2\\theta  &   \\Gamma^r_{\\theta\\theta}= -(r-2GM)  \\\\\n",
    " \\Gamma^r_{rr}= -GMr(r-2GM)  &  \\Gamma^t_{rt}= \\frac{GM}{r(r-2GM)}  &   \\Gamma^\\theta_{\\phi\\phi}= -\\sin\\theta\\cos\\theta  \\\\\n",
    " \\Gamma^\\phi_{r\\phi}= \\frac{1}{r}  &   \\Gamma^\\theta_{r\\theta}= \\frac{1}{r}  &   \\Gamma^\\phi_{\\theta\\phi}=\\sin\\theta\\cos\\theta \n",
    "\\end{matrix} $$"
   ]
  },
  {
   "cell_type": "code",
   "execution_count": 46,
   "metadata": {},
   "outputs": [],
   "source": [
    "import numpy as np\n",
    "import matplotlib.pyplot as plt\n",
    "import matplotlib.animation as ani\n",
    "import pandas as pd\n",
    "from scipy.integrate import solve_ivp"
   ]
  },
  {
   "cell_type": "code",
   "execution_count": 47,
   "metadata": {},
   "outputs": [
    {
     "name": "stdout",
     "output_type": "stream",
     "text": [
      "The Schwarzschild radius of the system is 1.4767e+03 m\n"
     ]
    }
   ],
   "source": [
    "\n",
    "G = 6.6743e-11\n",
    "M = 1.98847e30\n",
    "c = 299792458\n",
    "\n",
    "R_s = (G*M)/c**2  #Schwarzschild radius in meters\n",
    "\n",
    "print(f'The Schwarzschild radius of the system is {R_s:.4e} m')\n",
    "G, c, M = 1, 1, 1\n"
   ]
  },
  {
   "cell_type": "markdown",
   "metadata": {},
   "source": [
    "### Definitions of the metric and the Christoffel symbols"
   ]
  },
  {
   "cell_type": "code",
   "execution_count": 48,
   "metadata": {},
   "outputs": [],
   "source": [
    "# The metric depends on the point where it is calculated\n",
    "\n",
    "g = lambda x: np.diag([-(1-2*G*M/x[1]),(1-2*G*M/x[1])**-1, x[1]**2, (x[1]*np.sin(x[2]))**2])\n",
    "\n",
    "# Christoffel symbols\n",
    "\n",
    "def Chr(x):\n",
    "  r, theta = x[1], x[2]\n",
    "  ch = np.zeros((4,4,4))\n",
    "  ch[1][0][0] = G*M*(r-2*G*M)/r**3      # r-tt\n",
    "  ch[0][1][0] = G*M/(r*(r-2*G*M))    # t-rt\n",
    "  ch[0][0][1] = G*M/(r*(r-2*G*M))    # t-tr\n",
    "  \n",
    "  ch[1][1][1] = -G*M/(r*(r-2*G*M))    # r-rr\n",
    "  \n",
    "  ch[1][2][2] = -(r-2*G*M)     # r-theta theta\n",
    "  ch[2][1][2] = -(r-2*G*M)     # theta - r theta\n",
    "  ch[2][2][1] = -(r-2*G*M)     # theta - theta r\n",
    "  \n",
    "  ch[1][3][3] = -(r-2*G*M)*np.sin(2*theta)    # r- phi phi\n",
    "  ch[3][1][3] = 1/r    # phi- r phi\n",
    "  ch[3][3][1] = 1/r    # phi- phi r\n",
    "  \n",
    "  ch[2][3][3] = -0.5*np.sin(2*theta)   # theta - phi phi\n",
    "  ch[3][2][3] = 0.5*np.sin(2*theta)   # phi - theta phi\n",
    "  ch[3][3][2] = 0.5*np.sin(2*theta)   # phi - phi theta\n",
    "  \n",
    "  return ch\n",
    "\n",
    "def dot(a,b,x):\n",
    "  return np.dot(a,np.dot(g(x), b))"
   ]
  },
  {
   "cell_type": "code",
   "execution_count": 55,
   "metadata": {},
   "outputs": [
    {
     "name": "stdout",
     "output_type": "stream",
     "text": [
      "[[[ 0.          0.0125      0.          0.        ]\n",
      "  [ 0.0125      0.          0.          0.        ]\n",
      "  [ 0.          0.          0.          0.        ]\n",
      "  [ 0.          0.          0.          0.        ]]\n",
      "\n",
      " [[ 0.008       0.          0.          0.        ]\n",
      "  [ 0.         -0.0125      0.          0.        ]\n",
      "  [ 0.          0.         -8.          0.        ]\n",
      "  [ 0.          0.          0.         -7.45631269]]\n",
      "\n",
      " [[ 0.          0.          0.          0.        ]\n",
      "  [ 0.          0.         -8.          0.        ]\n",
      "  [ 0.         -8.          0.          0.        ]\n",
      "  [ 0.          0.          0.         -0.46601954]]\n",
      "\n",
      " [[ 0.          0.          0.          0.        ]\n",
      "  [ 0.          0.          0.          0.1       ]\n",
      "  [ 0.          0.          0.          0.46601954]\n",
      "  [ 0.          0.1         0.46601954  0.        ]]]\n"
     ]
    }
   ],
   "source": [
    "a = np.array([1,0,0,1])\n",
    "b = np.array([1,1,0,1])\n",
    "x = np.array([0,10,0.6,0])\n",
    "print(Chr(x))"
   ]
  }
 ],
 "metadata": {
  "kernelspec": {
   "display_name": "Python 3",
   "language": "python",
   "name": "python3"
  },
  "language_info": {
   "codemirror_mode": {
    "name": "ipython",
    "version": 3
   },
   "file_extension": ".py",
   "mimetype": "text/x-python",
   "name": "python",
   "nbconvert_exporter": "python",
   "pygments_lexer": "ipython3",
   "version": "3.10.12"
  }
 },
 "nbformat": 4,
 "nbformat_minor": 2
}
