{
 "cells": [
  {
   "cell_type": "markdown",
   "metadata": {},
   "source": [
    "# Geodetic motion in Schwarzschild geometry"
   ]
  },
  {
   "cell_type": "markdown",
   "metadata": {},
   "source": [
    "### The metric and the geodesic equation\n",
    "\n",
    "The metric of the Schwarzschild space around a not charged, not spinnig black hole is $$ ds^2 = -(1-\\frac{2GM}{r})c^2 dt^2 +(1-\\frac{2GM}{r})^{-1} dr^2 + r^2 d\\theta^2 + r^2 \\sin(\\theta)^2 d\\phi^2 $$ \n",
    "The metric is described by $ g_{\\mu \\nu} = diag(-(1-\\frac{2GM}{r}), (1-\\frac{2GM}{r})^{-1}, r^2, r^2\\sin(\\theta)^2) $ \n",
    " \n",
    "The evolution of a body in geodesic motion is described by\n",
    "$$ \\begin{equation}\n",
    "    \\begin{cases}\n",
    "      \\frac{dx^\\mu}{d \\tau}= u^\\mu\\\\\n",
    "      \\frac{du^\\alpha}{d \\tau} + \\Gamma^\\alpha_{\\beta \\gamma}u^\\beta u^\\gamma = 0\n",
    "    \\end{cases}\\\n",
    "\\end{equation} $$\n",
    "The equation can be integrated in the proper time to obtain the coordinate time and the position of the body $ x^\\mu = (t, r, \\theta, \\phi) $ \n",
    " \n",
    "  \n",
    "The non-zero Christoffel symbols are $ {\\Gamma^\\alpha_{\\beta \\gamma}} $"
   ]
  },
  {
   "cell_type": "code",
   "execution_count": 9,
   "metadata": {},
   "outputs": [],
   "source": [
    "import numpy as np\n",
    "import matplotlib.pyplot as plt\n",
    "import matplotlib.animation as ani\n",
    "import pandas as pd\n",
    "from scipy.integrate import solve_ivp"
   ]
  },
  {
   "cell_type": "markdown",
   "metadata": {},
   "source": [
    "### Restricted equations\n",
    "\n",
    "In this simulations I'm using $ c=1 $ and $ r = GM $, so the metric becomes $$ ds^2 = -(1-\\frac{2}{r})dt^2 +(1-\\frac{2}{r})^{-1} dr^2 + (GMr)^2 d\\theta^2 + (GMr)^2 \\sin(\\theta)^2 d\\phi^2 $$ "
   ]
  },
  {
   "cell_type": "code",
   "execution_count": 10,
   "metadata": {},
   "outputs": [
    {
     "name": "stdout",
     "output_type": "stream",
     "text": [
      "The Schwarzschild radius of the system is 1.4767e+03 m\n"
     ]
    }
   ],
   "source": [
    "G = 6.6743e-11\n",
    "M = 1.98847e30\n",
    "c = 299792458\n",
    "\n",
    "R_s = (G*M)/c**2  #Schwarzschild radius in meters\n",
    "\n",
    "print(f'The Schwarzschild radius of the system is {R_s:.4e} m')"
   ]
  }
 ],
 "metadata": {
  "kernelspec": {
   "display_name": "Python 3",
   "language": "python",
   "name": "python3"
  },
  "language_info": {
   "codemirror_mode": {
    "name": "ipython",
    "version": 3
   },
   "file_extension": ".py",
   "mimetype": "text/x-python",
   "name": "python",
   "nbconvert_exporter": "python",
   "pygments_lexer": "ipython3",
   "version": "3.10.12"
  }
 },
 "nbformat": 4,
 "nbformat_minor": 2
}
